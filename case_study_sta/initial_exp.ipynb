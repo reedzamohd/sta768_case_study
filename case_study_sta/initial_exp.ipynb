{
 "cells": [
  {
   "cell_type": "code",
   "execution_count": 1,
   "metadata": {},
   "outputs": [],
   "source": [
    "import pandas as pd\n",
    "import matplotlib.pyplot as plt\n",
    "import warnings\n",
    "warnings.filterwarnings('ignore')"
   ]
  },
  {
   "cell_type": "code",
   "execution_count": 2,
   "metadata": {},
   "outputs": [],
   "source": [
    "df = pd.read_csv('./data/Month_Value_1.csv', index_col=0).dropna()\n",
    "df1 = df\n"
   ]
  },
  {
   "attachments": {},
   "cell_type": "markdown",
   "metadata": {},
   "source": [
    "# Scale the data "
   ]
  },
  {
   "cell_type": "code",
   "execution_count": 3,
   "metadata": {},
   "outputs": [
    {
     "data": {
      "text/html": [
       "<div>\n",
       "<style scoped>\n",
       "    .dataframe tbody tr th:only-of-type {\n",
       "        vertical-align: middle;\n",
       "    }\n",
       "\n",
       "    .dataframe tbody tr th {\n",
       "        vertical-align: top;\n",
       "    }\n",
       "\n",
       "    .dataframe thead th {\n",
       "        text-align: right;\n",
       "    }\n",
       "</style>\n",
       "<table border=\"1\" class=\"dataframe\">\n",
       "  <thead>\n",
       "    <tr style=\"text-align: right;\">\n",
       "      <th></th>\n",
       "      <th>Revenue</th>\n",
       "      <th>Sales_quantity</th>\n",
       "      <th>average_cost</th>\n",
       "      <th>average_annual_payroll_region</th>\n",
       "    </tr>\n",
       "  </thead>\n",
       "  <tbody>\n",
       "    <tr>\n",
       "      <th>0</th>\n",
       "      <td>0.044453</td>\n",
       "      <td>0.148378</td>\n",
       "      <td>0.101596</td>\n",
       "      <td>1.000000</td>\n",
       "    </tr>\n",
       "    <tr>\n",
       "      <th>1</th>\n",
       "      <td>0.039926</td>\n",
       "      <td>0.111645</td>\n",
       "      <td>0.171134</td>\n",
       "      <td>1.000000</td>\n",
       "    </tr>\n",
       "    <tr>\n",
       "      <th>2</th>\n",
       "      <td>0.179405</td>\n",
       "      <td>0.255688</td>\n",
       "      <td>0.189211</td>\n",
       "      <td>1.000000</td>\n",
       "    </tr>\n",
       "    <tr>\n",
       "      <th>3</th>\n",
       "      <td>0.107144</td>\n",
       "      <td>0.232331</td>\n",
       "      <td>0.086302</td>\n",
       "      <td>1.000000</td>\n",
       "    </tr>\n",
       "    <tr>\n",
       "      <th>4</th>\n",
       "      <td>0.000000</td>\n",
       "      <td>0.010284</td>\n",
       "      <td>0.356200</td>\n",
       "      <td>1.000000</td>\n",
       "    </tr>\n",
       "    <tr>\n",
       "      <th>...</th>\n",
       "      <td>...</td>\n",
       "      <td>...</td>\n",
       "      <td>...</td>\n",
       "      <td>...</td>\n",
       "    </tr>\n",
       "    <tr>\n",
       "      <th>59</th>\n",
       "      <td>1.000000</td>\n",
       "      <td>1.000000</td>\n",
       "      <td>0.298770</td>\n",
       "      <td>0.944179</td>\n",
       "    </tr>\n",
       "    <tr>\n",
       "      <th>60</th>\n",
       "      <td>0.944827</td>\n",
       "      <td>0.634179</td>\n",
       "      <td>0.662684</td>\n",
       "      <td>0.625820</td>\n",
       "    </tr>\n",
       "    <tr>\n",
       "      <th>61</th>\n",
       "      <td>0.585755</td>\n",
       "      <td>0.510670</td>\n",
       "      <td>0.414481</td>\n",
       "      <td>0.625820</td>\n",
       "    </tr>\n",
       "    <tr>\n",
       "      <th>62</th>\n",
       "      <td>0.804754</td>\n",
       "      <td>0.815157</td>\n",
       "      <td>0.293567</td>\n",
       "      <td>0.625820</td>\n",
       "    </tr>\n",
       "    <tr>\n",
       "      <th>63</th>\n",
       "      <td>0.856135</td>\n",
       "      <td>0.615056</td>\n",
       "      <td>0.590341</td>\n",
       "      <td>0.625820</td>\n",
       "    </tr>\n",
       "  </tbody>\n",
       "</table>\n",
       "<p>64 rows × 4 columns</p>\n",
       "</div>"
      ],
      "text/plain": [
       "     Revenue  Sales_quantity  average_cost  average_annual_payroll_region\n",
       "0   0.044453        0.148378      0.101596                       1.000000\n",
       "1   0.039926        0.111645      0.171134                       1.000000\n",
       "2   0.179405        0.255688      0.189211                       1.000000\n",
       "3   0.107144        0.232331      0.086302                       1.000000\n",
       "4   0.000000        0.010284      0.356200                       1.000000\n",
       "..       ...             ...           ...                            ...\n",
       "59  1.000000        1.000000      0.298770                       0.944179\n",
       "60  0.944827        0.634179      0.662684                       0.625820\n",
       "61  0.585755        0.510670      0.414481                       0.625820\n",
       "62  0.804754        0.815157      0.293567                       0.625820\n",
       "63  0.856135        0.615056      0.590341                       0.625820\n",
       "\n",
       "[64 rows x 4 columns]"
      ]
     },
     "execution_count": 3,
     "metadata": {},
     "output_type": "execute_result"
    }
   ],
   "source": [
    "# min max scaler\n",
    "from sklearn.preprocessing import MinMaxScaler\n",
    "trans = MinMaxScaler()\n",
    "df = trans.fit_transform(df)\n",
    "df_trans = pd.DataFrame(df, columns=['Revenue', 'Sales_quantity', 'average_cost', 'average_annual_payroll_region'])\n",
    "df_trans\n"
   ]
  },
  {
   "cell_type": "code",
   "execution_count": 4,
   "metadata": {},
   "outputs": [
    {
     "data": {
      "text/html": [
       "<div>\n",
       "<style scoped>\n",
       "    .dataframe tbody tr th:only-of-type {\n",
       "        vertical-align: middle;\n",
       "    }\n",
       "\n",
       "    .dataframe tbody tr th {\n",
       "        vertical-align: top;\n",
       "    }\n",
       "\n",
       "    .dataframe thead th {\n",
       "        text-align: right;\n",
       "    }\n",
       "</style>\n",
       "<table border=\"1\" class=\"dataframe\">\n",
       "  <thead>\n",
       "    <tr style=\"text-align: right;\">\n",
       "      <th></th>\n",
       "      <th>Period</th>\n",
       "    </tr>\n",
       "  </thead>\n",
       "  <tbody>\n",
       "    <tr>\n",
       "      <th>0</th>\n",
       "      <td>01.01.2015</td>\n",
       "    </tr>\n",
       "    <tr>\n",
       "      <th>1</th>\n",
       "      <td>01.02.2015</td>\n",
       "    </tr>\n",
       "    <tr>\n",
       "      <th>2</th>\n",
       "      <td>01.03.2015</td>\n",
       "    </tr>\n",
       "    <tr>\n",
       "      <th>3</th>\n",
       "      <td>01.04.2015</td>\n",
       "    </tr>\n",
       "    <tr>\n",
       "      <th>4</th>\n",
       "      <td>01.05.2015</td>\n",
       "    </tr>\n",
       "    <tr>\n",
       "      <th>...</th>\n",
       "      <td>...</td>\n",
       "    </tr>\n",
       "    <tr>\n",
       "      <th>59</th>\n",
       "      <td>01.12.2019</td>\n",
       "    </tr>\n",
       "    <tr>\n",
       "      <th>60</th>\n",
       "      <td>01.01.2020</td>\n",
       "    </tr>\n",
       "    <tr>\n",
       "      <th>61</th>\n",
       "      <td>01.02.2020</td>\n",
       "    </tr>\n",
       "    <tr>\n",
       "      <th>62</th>\n",
       "      <td>01.03.2020</td>\n",
       "    </tr>\n",
       "    <tr>\n",
       "      <th>63</th>\n",
       "      <td>01.04.2020</td>\n",
       "    </tr>\n",
       "  </tbody>\n",
       "</table>\n",
       "<p>64 rows × 1 columns</p>\n",
       "</div>"
      ],
      "text/plain": [
       "        Period\n",
       "0   01.01.2015\n",
       "1   01.02.2015\n",
       "2   01.03.2015\n",
       "3   01.04.2015\n",
       "4   01.05.2015\n",
       "..         ...\n",
       "59  01.12.2019\n",
       "60  01.01.2020\n",
       "61  01.02.2020\n",
       "62  01.03.2020\n",
       "63  01.04.2020\n",
       "\n",
       "[64 rows x 1 columns]"
      ]
     },
     "execution_count": 4,
     "metadata": {},
     "output_type": "execute_result"
    }
   ],
   "source": [
    "date = pd.read_csv('./data/Month_Value_1.csv').dropna().iloc[:,:1]\n",
    "date\n"
   ]
  },
  {
   "cell_type": "code",
   "execution_count": 5,
   "metadata": {},
   "outputs": [
    {
     "data": {
      "text/html": [
       "<div>\n",
       "<style scoped>\n",
       "    .dataframe tbody tr th:only-of-type {\n",
       "        vertical-align: middle;\n",
       "    }\n",
       "\n",
       "    .dataframe tbody tr th {\n",
       "        vertical-align: top;\n",
       "    }\n",
       "\n",
       "    .dataframe thead th {\n",
       "        text-align: right;\n",
       "    }\n",
       "</style>\n",
       "<table border=\"1\" class=\"dataframe\">\n",
       "  <thead>\n",
       "    <tr style=\"text-align: right;\">\n",
       "      <th></th>\n",
       "      <th>Revenue</th>\n",
       "      <th>Sales_quantity</th>\n",
       "      <th>average_cost</th>\n",
       "      <th>average_annual_payroll_region</th>\n",
       "    </tr>\n",
       "    <tr>\n",
       "      <th>Period</th>\n",
       "      <th></th>\n",
       "      <th></th>\n",
       "      <th></th>\n",
       "      <th></th>\n",
       "    </tr>\n",
       "  </thead>\n",
       "  <tbody>\n",
       "    <tr>\n",
       "      <th>01.01.2015</th>\n",
       "      <td>0.044453</td>\n",
       "      <td>0.148378</td>\n",
       "      <td>0.101596</td>\n",
       "      <td>1.000000</td>\n",
       "    </tr>\n",
       "    <tr>\n",
       "      <th>01.02.2015</th>\n",
       "      <td>0.039926</td>\n",
       "      <td>0.111645</td>\n",
       "      <td>0.171134</td>\n",
       "      <td>1.000000</td>\n",
       "    </tr>\n",
       "    <tr>\n",
       "      <th>01.03.2015</th>\n",
       "      <td>0.179405</td>\n",
       "      <td>0.255688</td>\n",
       "      <td>0.189211</td>\n",
       "      <td>1.000000</td>\n",
       "    </tr>\n",
       "    <tr>\n",
       "      <th>01.04.2015</th>\n",
       "      <td>0.107144</td>\n",
       "      <td>0.232331</td>\n",
       "      <td>0.086302</td>\n",
       "      <td>1.000000</td>\n",
       "    </tr>\n",
       "    <tr>\n",
       "      <th>01.05.2015</th>\n",
       "      <td>0.000000</td>\n",
       "      <td>0.010284</td>\n",
       "      <td>0.356200</td>\n",
       "      <td>1.000000</td>\n",
       "    </tr>\n",
       "    <tr>\n",
       "      <th>...</th>\n",
       "      <td>...</td>\n",
       "      <td>...</td>\n",
       "      <td>...</td>\n",
       "      <td>...</td>\n",
       "    </tr>\n",
       "    <tr>\n",
       "      <th>01.12.2019</th>\n",
       "      <td>1.000000</td>\n",
       "      <td>1.000000</td>\n",
       "      <td>0.298770</td>\n",
       "      <td>0.944179</td>\n",
       "    </tr>\n",
       "    <tr>\n",
       "      <th>01.01.2020</th>\n",
       "      <td>0.944827</td>\n",
       "      <td>0.634179</td>\n",
       "      <td>0.662684</td>\n",
       "      <td>0.625820</td>\n",
       "    </tr>\n",
       "    <tr>\n",
       "      <th>01.02.2020</th>\n",
       "      <td>0.585755</td>\n",
       "      <td>0.510670</td>\n",
       "      <td>0.414481</td>\n",
       "      <td>0.625820</td>\n",
       "    </tr>\n",
       "    <tr>\n",
       "      <th>01.03.2020</th>\n",
       "      <td>0.804754</td>\n",
       "      <td>0.815157</td>\n",
       "      <td>0.293567</td>\n",
       "      <td>0.625820</td>\n",
       "    </tr>\n",
       "    <tr>\n",
       "      <th>01.04.2020</th>\n",
       "      <td>0.856135</td>\n",
       "      <td>0.615056</td>\n",
       "      <td>0.590341</td>\n",
       "      <td>0.625820</td>\n",
       "    </tr>\n",
       "  </tbody>\n",
       "</table>\n",
       "<p>64 rows × 4 columns</p>\n",
       "</div>"
      ],
      "text/plain": [
       "             Revenue  Sales_quantity  average_cost  \\\n",
       "Period                                               \n",
       "01.01.2015  0.044453        0.148378      0.101596   \n",
       "01.02.2015  0.039926        0.111645      0.171134   \n",
       "01.03.2015  0.179405        0.255688      0.189211   \n",
       "01.04.2015  0.107144        0.232331      0.086302   \n",
       "01.05.2015  0.000000        0.010284      0.356200   \n",
       "...              ...             ...           ...   \n",
       "01.12.2019  1.000000        1.000000      0.298770   \n",
       "01.01.2020  0.944827        0.634179      0.662684   \n",
       "01.02.2020  0.585755        0.510670      0.414481   \n",
       "01.03.2020  0.804754        0.815157      0.293567   \n",
       "01.04.2020  0.856135        0.615056      0.590341   \n",
       "\n",
       "            average_annual_payroll_region  \n",
       "Period                                     \n",
       "01.01.2015                       1.000000  \n",
       "01.02.2015                       1.000000  \n",
       "01.03.2015                       1.000000  \n",
       "01.04.2015                       1.000000  \n",
       "01.05.2015                       1.000000  \n",
       "...                                   ...  \n",
       "01.12.2019                       0.944179  \n",
       "01.01.2020                       0.625820  \n",
       "01.02.2020                       0.625820  \n",
       "01.03.2020                       0.625820  \n",
       "01.04.2020                       0.625820  \n",
       "\n",
       "[64 rows x 4 columns]"
      ]
     },
     "execution_count": 5,
     "metadata": {},
     "output_type": "execute_result"
    }
   ],
   "source": [
    "df_trans = pd.concat([date, df_trans], axis= 1)\n",
    "# df_trans['Period'] = pd.to_datetime(df_trans['Period'])\n",
    "df_trans.set_index(keys='Period', inplace= True)\n",
    "df_trans"
   ]
  },
  {
   "cell_type": "code",
   "execution_count": 6,
   "metadata": {},
   "outputs": [
    {
     "data": {
      "text/plain": [
       "<Axes: xlabel='Period'>"
      ]
     },
     "execution_count": 6,
     "metadata": {},
     "output_type": "execute_result"
    },
    {
     "data": {
      "image/png": "[encoded data removed]",
      "text/plain": [
       "<Figure size 640x480 with 1 Axes>"
      ]
     },
     "metadata": {},
     "output_type": "display_data"
    }
   ],
   "source": [
    "df_trans.plot()"
   ]
  },
  {
   "cell_type": "code",
   "execution_count": 7,
   "metadata": {},
   "outputs": [
    {
     "data": {
      "application/vnd.plotly.v1+json": {
       "config": {
        "plotlyServerURL": "https://plot.ly"
       },
       "data": [
        {
         "hovertemplate": "variable=Revenue<br>Period=%{x}<br>value=%{y}<extra></extra>",
         "legendgroup": "Revenue",
         "line": {
          "color": "#636efa",
          "dash": "solid"
         },
         "marker": {
          "symbol": "circle"
         },
         "mode": "lines",
         "name": "Revenue",
         "orientation": "v",
         "showlegend": true,
         "type": "scatter",
         "x": [
          "01.01.2015",
          "01.02.2015",
          "01.03.2015",
          "01.04.2015",
          "01.05.2015",
          "01.06.2015",
          "01.07.2015",
          "01.08.2015",
          "01.09.2015",
          "01.10.2015",
          "01.11.2015",
          "01.12.2015",
          "01.01.2016",
          "01.02.2016",
          "01.03.2016",
          "01.04.2016",
          "01.05.2016",
          "01.06.2016",
          "01.07.2016",
          "01.08.2016",
          "01.09.2016",
          "01.10.2016",
          "01.11.2016",
          "01.12.2016",
          "01.01.2017",
          "01.02.2017",
          "01.03.2017",
          "01.04.2017",
          "01.05.2017",
          "01.06.2017",
          "01.07.2017",
          "01.08.2017",
          "01.09.2017",
          "01.10.2017",
          "01.11.2017",
          "01.12.2017",
          "01.01.2018",
          "01.02.2018",
          "01.03.2018",
          "01.04.2018",
          "01.05.2018",
          "01.06.2018",
          "01.07.2018",
          "01.08.2018",
          "01.09.2018",
          "01.10.2018",
          "01.11.2018",
          "01.12.2018",
          "01.01.2019",
          "01.02.2019",
          "01.03.2019",
          "01.04.2019",
          "01.05.2019",
          "01.06.2019",
          "01.07.2019",
          "01.08.2019",
          "01.09.2019",
          "01.10.2019",
          "01.11.2019",
          "01.12.2019",
          "01.01.2020",
          "01.02.2020",
          "01.03.2020",
          "01.04.2020"
         ],
         "xaxis": "x",
         "y": [
          0.04445272767083397,
          0.03992641278031095,
          0.17940466032371172,
          0.10714439075008819,
          0,
          0.0617514089171588,
          0.1149080868894155,
          0.026455903487199117,
          0.1471434277200086,
          0.15583762369126375,
          0.02172549849642985,
          0.30782004828366044,
          0.32592173519263395,
          0.1865562884560123,
          0.3513385726409965,
          0.3203203360525145,
          0.02778862833472079,
          0.23167944213868535,
          0.3457033534260752,
          0.027911876850836514,
          0.4944573799659671,
          0.3105770848670692,
          0.16207825412383853,
          0.6257445846878658,
          0.4914698554375578,
          0.3660511444070124,
          0.7523562220080939,
          0.2904322531568772,
          0.2442688396096135,
          0.38180101046995035,
          0.44321773229910905,
          0.05439114049395416,
          0.39406762904594567,
          0.39232655293192015,
          0.18832888199048164,
          0.6917324304087915,
          0.6716451378830954,
          0.49175836526245736,
          0.737107749799045,
          0.48094357740379007,
          0.35046656197397447,
          0.43007909547938356,
          0.4874272537418602,
          0.20671011131392975,
          0.4784176391042137,
          0.5769551697577249,
          0.424224167261166,
          0.7421560971633483,
          0.5015867545476378,
          0.5035212260585757,
          0.8981162949033752,
          0.41852045343659666,
          0.41377401118454576,
          0.7530619538236683,
          0.7146678487806677,
          0.5121758904262486,
          0.7713151919688075,
          0.6737217073870054,
          0.4996865956476129,
          0.9999999999999998,
          0.9448267996171007,
          0.585755384778827,
          0.8047544519910039,
          0.856135429213803
         ],
         "yaxis": "y"
        },
        {
         "hovertemplate": "variable=Sales_quantity<br>Period=%{x}<br>value=%{y}<extra></extra>",
         "legendgroup": "Sales_quantity",
         "line": {
          "color": "#EF553B",
          "dash": "solid"
         },
         "marker": {
          "symbol": "circle"
         },
         "mode": "lines",
         "name": "Sales_quantity",
         "orientation": "v",
         "showlegend": true,
         "type": "scatter",
         "x": [
          "01.01.2015",
          "01.02.2015",
          "01.03.2015",
          "01.04.2015",
          "01.05.2015",
          "01.06.2015",
          "01.07.2015",
          "01.08.2015",
          "01.09.2015",
          "01.10.2015",
          "01.11.2015",
          "01.12.2015",
          "01.01.2016",
          "01.02.2016",
          "01.03.2016",
          "01.04.2016",
          "01.05.2016",
          "01.06.2016",
          "01.07.2016",
          "01.08.2016",
          "01.09.2016",
          "01.10.2016",
          "01.11.2016",
          "01.12.2016",
          "01.01.2017",
          "01.02.2017",
          "01.03.2017",
          "01.04.2017",
          "01.05.2017",
          "01.06.2017",
          "01.07.2017",
          "01.08.2017",
          "01.09.2017",
          "01.10.2017",
          "01.11.2017",
          "01.12.2017",
          "01.01.2018",
          "01.02.2018",
          "01.03.2018",
          "01.04.2018",
          "01.05.2018",
          "01.06.2018",
          "01.07.2018",
          "01.08.2018",
          "01.09.2018",
          "01.10.2018",
          "01.11.2018",
          "01.12.2018",
          "01.01.2019",
          "01.02.2019",
          "01.03.2019",
          "01.04.2019",
          "01.05.2019",
          "01.06.2019",
          "01.07.2019",
          "01.08.2019",
          "01.09.2019",
          "01.10.2019",
          "01.11.2019",
          "01.12.2019",
          "01.01.2020",
          "01.02.2020",
          "01.03.2020",
          "01.04.2020"
         ],
         "xaxis": "x",
         "y": [
          0.14837842379432026,
          0.11164510166358593,
          0.2556881196437573,
          0.23233070072256762,
          0.010283985884725233,
          0.1628633843051588,
          0.3004537052596203,
          0.011023357418921187,
          0.26314905057973453,
          0.33006217442446645,
          0.08492690304150563,
          0.4637539909258948,
          0.2369685767097967,
          0.16262812972609647,
          0.33691816501428334,
          0.18803562426482945,
          0.008032263485128532,
          0.22809611829944548,
          0.24805914972273563,
          0,
          0.3175936817341623,
          0.35809107712989413,
          0.17203831288859017,
          0.628969921021677,
          0.2881868593513695,
          0.2537388674172408,
          0.4863720383128886,
          0.32250042009746266,
          0.08277600403293561,
          0.3523777516383801,
          0.3221307343303647,
          0.044866409006889596,
          0.3980843555704923,
          0.3765753654847925,
          0.23680053772475212,
          0.7568139808435557,
          0.386422450008402,
          0.33977482776004037,
          0.6953453201142665,
          0.46106536716518237,
          0.22332381112418082,
          0.49581582927239126,
          0.3388674172407999,
          0.1253906906402285,
          0.5055956982019829,
          0.48159973113762394,
          0.3848428835489834,
          0.8365988909426987,
          0.5303982523945556,
          0.4473197781885398,
          0.8423794320282305,
          0.46886237607124853,
          0.29080826751806416,
          0.5593681734162326,
          0.4571668627121493,
          0.20557889430347842,
          0.5020668795160477,
          0.6146529994958831,
          0.4595194085027727,
          1,
          0.6341791295580574,
          0.5106704755503277,
          0.8151571164510167,
          0.6150562930599899
         ],
         "yaxis": "y"
        },
        {
         "hovertemplate": "variable=average_cost<br>Period=%{x}<br>value=%{y}<extra></extra>",
         "legendgroup": "average_cost",
         "line": {
          "color": "#00cc96",
          "dash": "solid"
         },
         "marker": {
          "symbol": "circle"
         },
         "mode": "lines",
         "name": "average_cost",
         "orientation": "v",
         "showlegend": true,
         "type": "scatter",
         "x": [
          "01.01.2015",
          "01.02.2015",
          "01.03.2015",
          "01.04.2015",
          "01.05.2015",
          "01.06.2015",
          "01.07.2015",
          "01.08.2015",
          "01.09.2015",
          "01.10.2015",
          "01.11.2015",
          "01.12.2015",
          "01.01.2016",
          "01.02.2016",
          "01.03.2016",
          "01.04.2016",
          "01.05.2016",
          "01.06.2016",
          "01.07.2016",
          "01.08.2016",
          "01.09.2016",
          "01.10.2016",
          "01.11.2016",
          "01.12.2016",
          "01.01.2017",
          "01.02.2017",
          "01.03.2017",
          "01.04.2017",
          "01.05.2017",
          "01.06.2017",
          "01.07.2017",
          "01.08.2017",
          "01.09.2017",
          "01.10.2017",
          "01.11.2017",
          "01.12.2017",
          "01.01.2018",
          "01.02.2018",
          "01.03.2018",
          "01.04.2018",
          "01.05.2018",
          "01.06.2018",
          "01.07.2018",
          "01.08.2018",
          "01.09.2018",
          "01.10.2018",
          "01.11.2018",
          "01.12.2018",
          "01.01.2019",
          "01.02.2019",
          "01.03.2019",
          "01.04.2019",
          "01.05.2019",
          "01.06.2019",
          "01.07.2019",
          "01.08.2019",
          "01.09.2019",
          "01.10.2019",
          "01.11.2019",
          "01.12.2019",
          "01.01.2020",
          "01.02.2020",
          "01.03.2020",
          "01.04.2020"
         ],
         "xaxis": "x",
         "y": [
          0.10159557985570389,
          0.1711337075177548,
          0.18921136048372478,
          0.08630183312675976,
          0.35619980567810794,
          0.11375154155938305,
          0,
          0.4478698516913737,
          0.11436268955487694,
          0.03245008076741862,
          0.18805696825795004,
          0.10093640282987604,
          0.5183081863981382,
          0.4072150886402477,
          0.3527367780332631,
          0.640375078251809,
          0.4653184540508781,
          0.3480655845674434,
          0.5302107947004582,
          0.5011890671334602,
          0.637744166239216,
          0.24920931922739453,
          0.3264809565269864,
          0.3063559732531904,
          0.7050382448228949,
          0.5560018039772792,
          0.6777243630204068,
          0.27454027378179036,
          0.8313583238749054,
          0.37538399910669784,
          0.5387566905326351,
          0.41052367997896777,
          0.31713249890856954,
          0.34991140188948977,
          0.2421226170587294,
          0.24006865636556562,
          0.7687361176386156,
          0.5829139577633213,
          0.3518554683702946,
          0.34671150871759937,
          0.6038463508704084,
          0.22871837390381022,
          0.5776249868517516,
          0.5668560659767792,
          0.2802203053613461,
          0.4475972866183664,
          0.3858480944655234,
          0.21499036603441013,
          0.2778501228014463,
          0.4000084877848247,
          0.3542083788503019,
          0.2485393518895722,
          0.5568740318295018,
          0.5529055980598654,
          0.6818920414550276,
          1,
          0.6738940218804126,
          0.37922448888569615,
          0.37536316251999224,
          0.2987701448882589,
          0.6626837834850472,
          0.4144813144051842,
          0.29356723971396614,
          0.5903414469027293
         ],
         "yaxis": "y"
        },
        {
         "hovertemplate": "variable=average_annual_payroll_region<br>Period=%{x}<br>value=%{y}<extra></extra>",
         "legendgroup": "average_annual_payroll_region",
         "line": {
          "color": "#ab63fa",
          "dash": "solid"
         },
         "marker": {
          "symbol": "circle"
         },
         "mode": "lines",
         "name": "average_annual_payroll_region",
         "orientation": "v",
         "showlegend": true,
         "type": "scatter",
         "x": [
          "01.01.2015",
          "01.02.2015",
          "01.03.2015",
          "01.04.2015",
          "01.05.2015",
          "01.06.2015",
          "01.07.2015",
          "01.08.2015",
          "01.09.2015",
          "01.10.2015",
          "01.11.2015",
          "01.12.2015",
          "01.01.2016",
          "01.02.2016",
          "01.03.2016",
          "01.04.2016",
          "01.05.2016",
          "01.06.2016",
          "01.07.2016",
          "01.08.2016",
          "01.09.2016",
          "01.10.2016",
          "01.11.2016",
          "01.12.2016",
          "01.01.2017",
          "01.02.2017",
          "01.03.2017",
          "01.04.2017",
          "01.05.2017",
          "01.06.2017",
          "01.07.2017",
          "01.08.2017",
          "01.09.2017",
          "01.10.2017",
          "01.11.2017",
          "01.12.2017",
          "01.01.2018",
          "01.02.2018",
          "01.03.2018",
          "01.04.2018",
          "01.05.2018",
          "01.06.2018",
          "01.07.2018",
          "01.08.2018",
          "01.09.2018",
          "01.10.2018",
          "01.11.2018",
          "01.12.2018",
          "01.01.2019",
          "01.02.2019",
          "01.03.2019",
          "01.04.2019",
          "01.05.2019",
          "01.06.2019",
          "01.07.2019",
          "01.08.2019",
          "01.09.2019",
          "01.10.2019",
          "01.11.2019",
          "01.12.2019",
          "01.01.2020",
          "01.02.2020",
          "01.03.2020",
          "01.04.2020"
         ],
         "xaxis": "x",
         "y": [
          1,
          1,
          1,
          1,
          1,
          1,
          1,
          1,
          1,
          1,
          1,
          1,
          0.16121668182337245,
          0.16121668182337245,
          0.16121668182337245,
          0.16121668182337245,
          0.16121668182337245,
          0.16121668182337245,
          0.16121668182337245,
          0.16121668182337245,
          0.16121668182337245,
          0.16121668182337245,
          0.16121668182337245,
          0.16121668182337245,
          0,
          0,
          0,
          0,
          0,
          0,
          0,
          0,
          0,
          0,
          0,
          0,
          0.30225845742289614,
          0.30225845742289614,
          0.30225845742289614,
          0.30225845742289614,
          0.30225845742289614,
          0.30225845742289614,
          0.30225845742289614,
          0.30225845742289614,
          0.30225845742289614,
          0.30225845742289614,
          0.30225845742289614,
          0.30225845742289614,
          0.9441788891082936,
          0.9441788891082936,
          0.9441788891082936,
          0.9441788891082936,
          0.9441788891082936,
          0.9441788891082936,
          0.9441788891082936,
          0.9441788891082936,
          0.9441788891082936,
          0.9441788891082936,
          0.9441788891082936,
          0.9441788891082936,
          0.6258204577719919,
          0.6258204577719919,
          0.6258204577719919,
          0.6258204577719919
         ],
         "yaxis": "y"
        }
       ],
       "layout": {
        "legend": {
         "title": {
          "text": "variable"
         },
         "tracegroupgap": 0
        },
        "margin": {
         "t": 60
        },
        "template": {
         "data": {
          "bar": [
           {
            "error_x": {
             "color": "#2a3f5f"
            },
            "error_y": {
             "color": "#2a3f5f"
            },
            "marker": {
             "line": {
              "color": "#E5ECF6",
              "width": 0.5
             },
             "pattern": {
              "fillmode": "overlay",
              "size": 10,
              "solidity": 0.2
             }
            },
            "type": "bar"
           }
          ],
          "barpolar": [
           {
            "marker": {
             "line": {
              "color": "#E5ECF6",
              "width": 0.5
             },
             "pattern": {
              "fillmode": "overlay",
              "size": 10,
              "solidity": 0.2
             }
            },
            "type": "barpolar"
           }
          ],
          "carpet": [
           {
            "aaxis": {
             "endlinecolor": "#2a3f5f",
             "gridcolor": "white",
             "linecolor": "white",
             "minorgridcolor": "white",
             "startlinecolor": "#2a3f5f"
            },
            "baxis": {
             "endlinecolor": "#2a3f5f",
             "gridcolor": "white",
             "linecolor": "white",
             "minorgridcolor": "white",
             "startlinecolor": "#2a3f5f"
            },
            "type": "carpet"
           }
          ],
          "choropleth": [
           {
            "colorbar": {
             "outlinewidth": 0,
             "ticks": ""
            },
            "type": "choropleth"
           }
          ],
          "contour": [
           {
            "colorbar": {
             "outlinewidth": 0,
             "ticks": ""
            },
            "colorscale": [
             [
              0,
              "#0d0887"
             ],
             [
              0.1111111111111111,
              "#46039f"
             ],
             [
              0.2222222222222222,
              "#7201a8"
             ],
             [
              0.3333333333333333,
              "#9c179e"
             ],
             [
              0.4444444444444444,
              "#bd3786"
             ],
             [
              0.5555555555555556,
              "#d8576b"
             ],
             [
              0.6666666666666666,
              "#ed7953"
             ],
             [
              0.7777777777777778,
              "#fb9f3a"
             ],
             [
              0.8888888888888888,
              "#fdca26"
             ],
             [
              1,
              "#f0f921"
             ]
            ],
            "type": "contour"
           }
          ],
          "contourcarpet": [
           {
            "colorbar": {
             "outlinewidth": 0,
             "ticks": ""
            },
            "type": "contourcarpet"
           }
          ],
          "heatmap": [
           {
            "colorbar": {
             "outlinewidth": 0,
             "ticks": ""
            },
            "colorscale": [
             [
              0,
              "#0d0887"
             ],
             [
              0.1111111111111111,
              "#46039f"
             ],
             [
              0.2222222222222222,
              "#7201a8"
             ],
             [
              0.3333333333333333,
              "#9c179e"
             ],
             [
              0.4444444444444444,
              "#bd3786"
             ],
             [
              0.5555555555555556,
              "#d8576b"
             ],
             [
              0.6666666666666666,
              "#ed7953"
             ],
             [
              0.7777777777777778,
              "#fb9f3a"
             ],
             [
              0.8888888888888888,
              "#fdca26"
             ],
             [
              1,
              "#f0f921"
             ]
            ],
            "type": "heatmap"
           }
          ],
          "heatmapgl": [
           {
            "colorbar": {
             "outlinewidth": 0,
             "ticks": ""
            },
            "colorscale": [
             [
              0,
              "#0d0887"
             ],
             [
              0.1111111111111111,
              "#46039f"
             ],
             [
              0.2222222222222222,
              "#7201a8"
             ],
             [
              0.3333333333333333,
              "#9c179e"
             ],
             [
              0.4444444444444444,
              "#bd3786"
             ],
             [
              0.5555555555555556,
              "#d8576b"
             ],
             [
              0.6666666666666666,
              "#ed7953"
             ],
             [
              0.7777777777777778,
              "#fb9f3a"
             ],
             [
              0.8888888888888888,
              "#fdca26"
             ],
             [
              1,
              "#f0f921"
             ]
            ],
            "type": "heatmapgl"
           }
          ],
          "histogram": [
           {
            "marker": {
             "pattern": {
              "fillmode": "overlay",
              "size": 10,
              "solidity": 0.2
             }
            },
            "type": "histogram"
           }
          ],
          "histogram2d": [
           {
            "colorbar": {
             "outlinewidth": 0,
             "ticks": ""
            },
            "colorscale": [
             [
              0,
              "#0d0887"
             ],
             [
              0.1111111111111111,
              "#46039f"
             ],
             [
              0.2222222222222222,
              "#7201a8"
             ],
             [
              0.3333333333333333,
              "#9c179e"
             ],
             [
              0.4444444444444444,
              "#bd3786"
             ],
             [
              0.5555555555555556,
              "#d8576b"
             ],
             [
              0.6666666666666666,
              "#ed7953"
             ],
             [
              0.7777777777777778,
              "#fb9f3a"
             ],
             [
              0.8888888888888888,
              "#fdca26"
             ],
             [
              1,
              "#f0f921"
             ]
            ],
            "type": "histogram2d"
           }
          ],
          "histogram2dcontour": [
           {
            "colorbar": {
             "outlinewidth": 0,
             "ticks": ""
            },
            "colorscale": [
             [
              0,
              "#0d0887"
             ],
             [
              0.1111111111111111,
              "#46039f"
             ],
             [
              0.2222222222222222,
              "#7201a8"
             ],
             [
              0.3333333333333333,
              "#9c179e"
             ],
             [
              0.4444444444444444,
              "#bd3786"
             ],
             [
              0.5555555555555556,
              "#d8576b"
             ],
             [
              0.6666666666666666,
              "#ed7953"
             ],
             [
              0.7777777777777778,
              "#fb9f3a"
             ],
             [
              0.8888888888888888,
              "#fdca26"
             ],
             [
              1,
              "#f0f921"
             ]
            ],
            "type": "histogram2dcontour"
           }
          ],
          "mesh3d": [
           {
            "colorbar": {
             "outlinewidth": 0,
             "ticks": ""
            },
            "type": "mesh3d"
           }
          ],
          "parcoords": [
           {
            "line": {
             "colorbar": {
              "outlinewidth": 0,
              "ticks": ""
             }
            },
            "type": "parcoords"
           }
          ],
          "pie": [
           {
            "automargin": true,
            "type": "pie"
           }
          ],
          "scatter": [
           {
            "fillpattern": {
             "fillmode": "overlay",
             "size": 10,
             "solidity": 0.2
            },
            "type": "scatter"
           }
          ],
          "scatter3d": [
           {
            "line": {
             "colorbar": {
              "outlinewidth": 0,
              "ticks": ""
             }
            },
            "marker": {
             "colorbar": {
              "outlinewidth": 0,
              "ticks": ""
             }
            },
            "type": "scatter3d"
           }
          ],
          "scattercarpet": [
           {
            "marker": {
             "colorbar": {
              "outlinewidth": 0,
              "ticks": ""
             }
            },
            "type": "scattercarpet"
           }
          ],
          "scattergeo": [
           {
            "marker": {
             "colorbar": {
              "outlinewidth": 0,
              "ticks": ""
             }
            },
            "type": "scattergeo"
           }
          ],
          "scattergl": [
           {
            "marker": {
             "colorbar": {
              "outlinewidth": 0,
              "ticks": ""
             }
            },
            "type": "scattergl"
           }
          ],
          "scattermapbox": [
           {
            "marker": {
             "colorbar": {
              "outlinewidth": 0,
              "ticks": ""
             }
            },
            "type": "scattermapbox"
           }
          ],
          "scatterpolar": [
           {
            "marker": {
             "colorbar": {
              "outlinewidth": 0,
              "ticks": ""
             }
            },
            "type": "scatterpolar"
           }
          ],
          "scatterpolargl": [
           {
            "marker": {
             "colorbar": {
              "outlinewidth": 0,
              "ticks": ""
             }
            },
            "type": "scatterpolargl"
           }
          ],
          "scatterternary": [
           {
            "marker": {
             "colorbar": {
              "outlinewidth": 0,
              "ticks": ""
             }
            },
            "type": "scatterternary"
           }
          ],
          "surface": [
           {
            "colorbar": {
             "outlinewidth": 0,
             "ticks": ""
            },
            "colorscale": [
             [
              0,
              "#0d0887"
             ],
             [
              0.1111111111111111,
              "#46039f"
             ],
             [
              0.2222222222222222,
              "#7201a8"
             ],
             [
              0.3333333333333333,
              "#9c179e"
             ],
             [
              0.4444444444444444,
              "#bd3786"
             ],
             [
              0.5555555555555556,
              "#d8576b"
             ],
             [
              0.6666666666666666,
              "#ed7953"
             ],
             [
              0.7777777777777778,
              "#fb9f3a"
             ],
             [
              0.8888888888888888,
              "#fdca26"
             ],
             [
              1,
              "#f0f921"
             ]
            ],
            "type": "surface"
           }
          ],
          "table": [
           {
            "cells": {
             "fill": {
              "color": "#EBF0F8"
             },
             "line": {
              "color": "white"
             }
            },
            "header": {
             "fill": {
              "color": "#C8D4E3"
             },
             "line": {
              "color": "white"
             }
            },
            "type": "table"
           }
          ]
         },
         "layout": {
          "annotationdefaults": {
           "arrowcolor": "#2a3f5f",
           "arrowhead": 0,
           "arrowwidth": 1
          },
          "autotypenumbers": "strict",
          "coloraxis": {
           "colorbar": {
            "outlinewidth": 0,
            "ticks": ""
           }
          },
          "colorscale": {
           "diverging": [
            [
             0,
             "#8e0152"
            ],
            [
             0.1,
             "#c51b7d"
            ],
            [
             0.2,
             "#de77ae"
            ],
            [
             0.3,
             "#f1b6da"
            ],
            [
             0.4,
             "#fde0ef"
            ],
            [
             0.5,
             "#f7f7f7"
            ],
            [
             0.6,
             "#e6f5d0"
            ],
            [
             0.7,
             "#b8e186"
            ],
            [
             0.8,
             "#7fbc41"
            ],
            [
             0.9,
             "#4d9221"
            ],
            [
             1,
             "#276419"
            ]
           ],
           "sequential": [
            [
             0,
             "#0d0887"
            ],
            [
             0.1111111111111111,
             "#46039f"
            ],
            [
             0.2222222222222222,
             "#7201a8"
            ],
            [
             0.3333333333333333,
             "#9c179e"
            ],
            [
             0.4444444444444444,
             "#bd3786"
            ],
            [
             0.5555555555555556,
             "#d8576b"
            ],
            [
             0.6666666666666666,
             "#ed7953"
            ],
            [
             0.7777777777777778,
             "#fb9f3a"
            ],
            [
             0.8888888888888888,
             "#fdca26"
            ],
            [
             1,
             "#f0f921"
            ]
           ],
           "sequentialminus": [
            [
             0,
             "#0d0887"
            ],
            [
             0.1111111111111111,
             "#46039f"
            ],
            [
             0.2222222222222222,
             "#7201a8"
            ],
            [
             0.3333333333333333,
             "#9c179e"
            ],
            [
             0.4444444444444444,
             "#bd3786"
            ],
            [
             0.5555555555555556,
             "#d8576b"
            ],
            [
             0.6666666666666666,
             "#ed7953"
            ],
            [
             0.7777777777777778,
             "#fb9f3a"
            ],
            [
             0.8888888888888888,
             "#fdca26"
            ],
            [
             1,
             "#f0f921"
            ]
           ]
          },
          "colorway": [
           "#636efa",
           "#EF553B",
           "#00cc96",
           "#ab63fa",
           "#FFA15A",
           "#19d3f3",
           "#FF6692",
           "#B6E880",
           "#FF97FF",
           "#FECB52"
          ],
          "font": {
           "color": "#2a3f5f"
          },
          "geo": {
           "bgcolor": "white",
           "lakecolor": "white",
           "landcolor": "#E5ECF6",
           "showlakes": true,
           "showland": true,
           "subunitcolor": "white"
          },
          "hoverlabel": {
           "align": "left"
          },
          "hovermode": "closest",
          "mapbox": {
           "style": "light"
          },
          "paper_bgcolor": "white",
          "plot_bgcolor": "#E5ECF6",
          "polar": {
           "angularaxis": {
            "gridcolor": "white",
            "linecolor": "white",
            "ticks": ""
           },
           "bgcolor": "#E5ECF6",
           "radialaxis": {
            "gridcolor": "white",
            "linecolor": "white",
            "ticks": ""
           }
          },
          "scene": {
           "xaxis": {
            "backgroundcolor": "#E5ECF6",
            "gridcolor": "white",
            "gridwidth": 2,
            "linecolor": "white",
            "showbackground": true,
            "ticks": "",
            "zerolinecolor": "white"
           },
           "yaxis": {
            "backgroundcolor": "#E5ECF6",
            "gridcolor": "white",
            "gridwidth": 2,
            "linecolor": "white",
            "showbackground": true,
            "ticks": "",
            "zerolinecolor": "white"
           },
           "zaxis": {
            "backgroundcolor": "#E5ECF6",
            "gridcolor": "white",
            "gridwidth": 2,
            "linecolor": "white",
            "showbackground": true,
            "ticks": "",
            "zerolinecolor": "white"
           }
          },
          "shapedefaults": {
           "line": {
            "color": "#2a3f5f"
           }
          },
          "ternary": {
           "aaxis": {
            "gridcolor": "white",
            "linecolor": "white",
            "ticks": ""
           },
           "baxis": {
            "gridcolor": "white",
            "linecolor": "white",
            "ticks": ""
           },
           "bgcolor": "#E5ECF6",
           "caxis": {
            "gridcolor": "white",
            "linecolor": "white",
            "ticks": ""
           }
          },
          "title": {
           "x": 0.05
          },
          "xaxis": {
           "automargin": true,
           "gridcolor": "white",
           "linecolor": "white",
           "ticks": "",
           "title": {
            "standoff": 15
           },
           "zerolinecolor": "white",
           "zerolinewidth": 2
          },
          "yaxis": {
           "automargin": true,
           "gridcolor": "white",
           "linecolor": "white",
           "ticks": "",
           "title": {
            "standoff": 15
           },
           "zerolinecolor": "white",
           "zerolinewidth": 2
          }
         }
        },
        "xaxis": {
         "anchor": "y",
         "domain": [
          0,
          1
         ],
         "title": {
          "text": "Period"
         }
        },
        "yaxis": {
         "anchor": "x",
         "domain": [
          0,
          1
         ],
         "title": {
          "text": "value"
         }
        }
       }
      }
     },
     "metadata": {},
     "output_type": "display_data"
    }
   ],
   "source": [
    "# Using plotly.express\n",
    "import plotly.express as px\n",
    "\n",
    "fig = px.line(df_trans)\n",
    "fig.show()"
   ]
  },
  {
   "cell_type": "code",
   "execution_count": 8,
   "metadata": {},
   "outputs": [
    {
     "data": {
      "text/html": [
       "<div>\n",
       "<style scoped>\n",
       "    .dataframe tbody tr th:only-of-type {\n",
       "        vertical-align: middle;\n",
       "    }\n",
       "\n",
       "    .dataframe tbody tr th {\n",
       "        vertical-align: top;\n",
       "    }\n",
       "\n",
       "    .dataframe thead th {\n",
       "        text-align: right;\n",
       "    }\n",
       "</style>\n",
       "<table border=\"1\" class=\"dataframe\">\n",
       "  <thead>\n",
       "    <tr style=\"text-align: right;\">\n",
       "      <th></th>\n",
       "      <th>Revenue</th>\n",
       "      <th>Sales_quantity</th>\n",
       "      <th>average_cost</th>\n",
       "      <th>average_annual_payroll_region</th>\n",
       "    </tr>\n",
       "  </thead>\n",
       "  <tbody>\n",
       "    <tr>\n",
       "      <th>Revenue</th>\n",
       "      <td>1.000000</td>\n",
       "      <td>0.887570</td>\n",
       "      <td>0.358278</td>\n",
       "      <td>-0.007111</td>\n",
       "    </tr>\n",
       "    <tr>\n",
       "      <th>Sales_quantity</th>\n",
       "      <td>0.887570</td>\n",
       "      <td>1.000000</td>\n",
       "      <td>-0.093599</td>\n",
       "      <td>0.103704</td>\n",
       "    </tr>\n",
       "    <tr>\n",
       "      <th>average_cost</th>\n",
       "      <td>0.358278</td>\n",
       "      <td>-0.093599</td>\n",
       "      <td>1.000000</td>\n",
       "      <td>-0.305145</td>\n",
       "    </tr>\n",
       "    <tr>\n",
       "      <th>average_annual_payroll_region</th>\n",
       "      <td>-0.007111</td>\n",
       "      <td>0.103704</td>\n",
       "      <td>-0.305145</td>\n",
       "      <td>1.000000</td>\n",
       "    </tr>\n",
       "  </tbody>\n",
       "</table>\n",
       "</div>"
      ],
      "text/plain": [
       "                                Revenue  Sales_quantity  average_cost  \\\n",
       "Revenue                        1.000000        0.887570      0.358278   \n",
       "Sales_quantity                 0.887570        1.000000     -0.093599   \n",
       "average_cost                   0.358278       -0.093599      1.000000   \n",
       "average_annual_payroll_region -0.007111        0.103704     -0.305145   \n",
       "\n",
       "                               average_annual_payroll_region  \n",
       "Revenue                                            -0.007111  \n",
       "Sales_quantity                                      0.103704  \n",
       "average_cost                                       -0.305145  \n",
       "average_annual_payroll_region                       1.000000  "
      ]
     },
     "execution_count": 8,
     "metadata": {},
     "output_type": "execute_result"
    }
   ],
   "source": [
    "df_trans.corr()"
   ]
  },
  {
   "cell_type": "code",
   "execution_count": 9,
   "metadata": {},
   "outputs": [
    {
     "data": {
      "text/html": [
       "<div>\n",
       "<style scoped>\n",
       "    .dataframe tbody tr th:only-of-type {\n",
       "        vertical-align: middle;\n",
       "    }\n",
       "\n",
       "    .dataframe tbody tr th {\n",
       "        vertical-align: top;\n",
       "    }\n",
       "\n",
       "    .dataframe thead th {\n",
       "        text-align: right;\n",
       "    }\n",
       "</style>\n",
       "<table border=\"1\" class=\"dataframe\">\n",
       "  <thead>\n",
       "    <tr style=\"text-align: right;\">\n",
       "      <th></th>\n",
       "      <th>Revenue</th>\n",
       "      <th>Sales_quantity</th>\n",
       "      <th>Average_cost</th>\n",
       "      <th>The_average_annual_payroll_of_the_region</th>\n",
       "    </tr>\n",
       "  </thead>\n",
       "  <tbody>\n",
       "    <tr>\n",
       "      <th>Revenue</th>\n",
       "      <td>1.000000</td>\n",
       "      <td>0.887570</td>\n",
       "      <td>0.358278</td>\n",
       "      <td>-0.007111</td>\n",
       "    </tr>\n",
       "    <tr>\n",
       "      <th>Sales_quantity</th>\n",
       "      <td>0.887570</td>\n",
       "      <td>1.000000</td>\n",
       "      <td>-0.093599</td>\n",
       "      <td>0.103704</td>\n",
       "    </tr>\n",
       "    <tr>\n",
       "      <th>Average_cost</th>\n",
       "      <td>0.358278</td>\n",
       "      <td>-0.093599</td>\n",
       "      <td>1.000000</td>\n",
       "      <td>-0.305145</td>\n",
       "    </tr>\n",
       "    <tr>\n",
       "      <th>The_average_annual_payroll_of_the_region</th>\n",
       "      <td>-0.007111</td>\n",
       "      <td>0.103704</td>\n",
       "      <td>-0.305145</td>\n",
       "      <td>1.000000</td>\n",
       "    </tr>\n",
       "  </tbody>\n",
       "</table>\n",
       "</div>"
      ],
      "text/plain": [
       "                                           Revenue  Sales_quantity  \\\n",
       "Revenue                                   1.000000        0.887570   \n",
       "Sales_quantity                            0.887570        1.000000   \n",
       "Average_cost                              0.358278       -0.093599   \n",
       "The_average_annual_payroll_of_the_region -0.007111        0.103704   \n",
       "\n",
       "                                          Average_cost  \\\n",
       "Revenue                                       0.358278   \n",
       "Sales_quantity                               -0.093599   \n",
       "Average_cost                                  1.000000   \n",
       "The_average_annual_payroll_of_the_region     -0.305145   \n",
       "\n",
       "                                          The_average_annual_payroll_of_the_region  \n",
       "Revenue                                                                  -0.007111  \n",
       "Sales_quantity                                                            0.103704  \n",
       "Average_cost                                                             -0.305145  \n",
       "The_average_annual_payroll_of_the_region                                  1.000000  "
      ]
     },
     "execution_count": 9,
     "metadata": {},
     "output_type": "execute_result"
    }
   ],
   "source": [
    "df1.corr()"
   ]
  },
  {
   "attachments": {},
   "cell_type": "markdown",
   "metadata": {},
   "source": [
    "# Train and test split 80/20\n"
   ]
  },
  {
   "cell_type": "code",
   "execution_count": 10,
   "metadata": {},
   "outputs": [],
   "source": [
    "# split and test\n",
    "train_sz = int(.8*len(df_trans))\n",
    "test_sz = len(df_trans) - train_sz \n",
    "df_train = df_trans.iloc[:train_sz,:]\n",
    "df_test = df_trans.iloc[train_sz:,:]"
   ]
  },
  {
   "cell_type": "code",
   "execution_count": 11,
   "metadata": {},
   "outputs": [
    {
     "data": {
      "text/plain": [
       "<Axes: xlabel='Period'>"
      ]
     },
     "execution_count": 11,
     "metadata": {},
     "output_type": "execute_result"
    },
    {
     "data": {
      "image/png": "[encoded data removed]",
      "text/plain": [
       "<Figure size 640x480 with 1 Axes>"
      ]
     },
     "metadata": {},
     "output_type": "display_data"
    }
   ],
   "source": [
    "df_train.plot()"
   ]
  },
  {
   "cell_type": "code",
   "execution_count": 12,
   "metadata": {},
   "outputs": [
    {
     "data": {
      "text/plain": [
       "<Axes: xlabel='Period'>"
      ]
     },
     "execution_count": 12,
     "metadata": {},
     "output_type": "execute_result"
    },
    {
     "data": {
      "image/png": "[encoded data removed]",
      "text/plain": [
       "<Figure size 640x480 with 1 Axes>"
      ]
     },
     "metadata": {},
     "output_type": "display_data"
    }
   ],
   "source": [
    "df_test.plot()"
   ]
  },
  {
   "attachments": {},
   "cell_type": "markdown",
   "metadata": {},
   "source": [
    "# Linear Regression"
   ]
  },
  {
   "cell_type": "code",
   "execution_count": 13,
   "metadata": {},
   "outputs": [],
   "source": [
    "import numpy as np\n",
    "from sklearn.linear_model import LinearRegression\n",
    "\n",
    "x = df_train.Revenue.values\n",
    "y = df_train.Sales_quantity.values\n",
    "length = len(x)\n",
    "x = x.reshape(length, 1)\n",
    "y = y.reshape(length, 1)"
   ]
  },
  {
   "cell_type": "code",
   "execution_count": 14,
   "metadata": {},
   "outputs": [
    {
     "data": {
      "image/png": "[encoded data removed]",
      "text/plain": [
       "<Figure size 640x480 with 1 Axes>"
      ]
     },
     "metadata": {},
     "output_type": "display_data"
    }
   ],
   "source": [
    "regr = LinearRegression()\n",
    "regr.fit(x, y)\n",
    "\n",
    "# plot it as in the example at http://scikit-learn.org/\n",
    "plt.scatter(x, y, color = 'black')\n",
    "plt.plot(x, regr.predict(x), color='blue', linewidth=3)\n",
    "plt.xticks(())\n",
    "plt.yticks(())\n",
    "plt.show()"
   ]
  },
  {
   "cell_type": "code",
   "execution_count": 15,
   "metadata": {},
   "outputs": [
    {
     "data": {
      "application/vnd.plotly.v1+json": {
       "config": {
        "plotlyServerURL": "https://plot.ly"
       },
       "data": [
        {
         "hovertemplate": "x=%{x}<br>y=%{y}<extra></extra>",
         "legendgroup": "",
         "marker": {
          "color": "#636efa",
          "symbol": "circle"
         },
         "mode": "markers",
         "name": "",
         "orientation": "v",
         "showlegend": false,
         "type": "scatter",
         "x": [
          0.04445272767083397,
          0.03992641278031095,
          0.17940466032371172,
          0.10714439075008819,
          0,
          0.0617514089171588,
          0.1149080868894155,
          0.026455903487199117,
          0.1471434277200086,
          0.15583762369126375,
          0.02172549849642985,
          0.30782004828366044,
          0.32592173519263395,
          0.1865562884560123,
          0.3513385726409965,
          0.3203203360525145,
          0.02778862833472079,
          0.23167944213868535,
          0.3457033534260752,
          0.027911876850836514,
          0.4944573799659671,
          0.3105770848670692,
          0.16207825412383853,
          0.6257445846878658,
          0.4914698554375578,
          0.3660511444070124,
          0.7523562220080939,
          0.2904322531568772,
          0.2442688396096135,
          0.38180101046995035,
          0.44321773229910905,
          0.05439114049395416,
          0.39406762904594567,
          0.39232655293192015,
          0.18832888199048164,
          0.6917324304087915,
          0.6716451378830954,
          0.49175836526245736,
          0.737107749799045,
          0.48094357740379007,
          0.35046656197397447,
          0.43007909547938356,
          0.4874272537418602,
          0.20671011131392975,
          0.4784176391042137,
          0.5769551697577249,
          0.424224167261166,
          0.7421560971633483,
          0.5015867545476378,
          0.5035212260585757,
          0.8981162949033752,
          0.41852045343659666,
          0.41377401118454576,
          0.7530619538236683,
          0.7146678487806677,
          0.5121758904262486,
          0.7713151919688075,
          0.6737217073870054,
          0.4996865956476129,
          0.9999999999999998,
          0.9448267996171007,
          0.585755384778827,
          0.8047544519910039,
          0.856135429213803
         ],
         "xaxis": "x",
         "y": [
          0.14837842379432026,
          0.11164510166358593,
          0.2556881196437573,
          0.23233070072256762,
          0.010283985884725233,
          0.1628633843051588,
          0.3004537052596203,
          0.011023357418921187,
          0.26314905057973453,
          0.33006217442446645,
          0.08492690304150563,
          0.4637539909258948,
          0.2369685767097967,
          0.16262812972609647,
          0.33691816501428334,
          0.18803562426482945,
          0.008032263485128532,
          0.22809611829944548,
          0.24805914972273563,
          0,
          0.3175936817341623,
          0.35809107712989413,
          0.17203831288859017,
          0.628969921021677,
          0.2881868593513695,
          0.2537388674172408,
          0.4863720383128886,
          0.32250042009746266,
          0.08277600403293561,
          0.3523777516383801,
          0.3221307343303647,
          0.044866409006889596,
          0.3980843555704923,
          0.3765753654847925,
          0.23680053772475212,
          0.7568139808435557,
          0.386422450008402,
          0.33977482776004037,
          0.6953453201142665,
          0.46106536716518237,
          0.22332381112418082,
          0.49581582927239126,
          0.3388674172407999,
          0.1253906906402285,
          0.5055956982019829,
          0.48159973113762394,
          0.3848428835489834,
          0.8365988909426987,
          0.5303982523945556,
          0.4473197781885398,
          0.8423794320282305,
          0.46886237607124853,
          0.29080826751806416,
          0.5593681734162326,
          0.4571668627121493,
          0.20557889430347842,
          0.5020668795160477,
          0.6146529994958831,
          0.4595194085027727,
          1,
          0.6341791295580574,
          0.5106704755503277,
          0.8151571164510167,
          0.6150562930599899
         ],
         "yaxis": "y"
        }
       ],
       "layout": {
        "legend": {
         "tracegroupgap": 0
        },
        "margin": {
         "t": 60
        },
        "template": {
         "data": {
          "bar": [
           {
            "error_x": {
             "color": "#2a3f5f"
            },
            "error_y": {
             "color": "#2a3f5f"
            },
            "marker": {
             "line": {
              "color": "#E5ECF6",
              "width": 0.5
             },
             "pattern": {
              "fillmode": "overlay",
              "size": 10,
              "solidity": 0.2
             }
            },
            "type": "bar"
           }
          ],
          "barpolar": [
           {
            "marker": {
             "line": {
              "color": "#E5ECF6",
              "width": 0.5
             },
             "pattern": {
              "fillmode": "overlay",
              "size": 10,
              "solidity": 0.2
             }
            },
            "type": "barpolar"
           }
          ],
          "carpet": [
           {
            "aaxis": {
             "endlinecolor": "#2a3f5f",
             "gridcolor": "white",
             "linecolor": "white",
             "minorgridcolor": "white",
             "startlinecolor": "#2a3f5f"
            },
            "baxis": {
             "endlinecolor": "#2a3f5f",
             "gridcolor": "white",
             "linecolor": "white",
             "minorgridcolor": "white",
             "startlinecolor": "#2a3f5f"
            },
            "type": "carpet"
           }
          ],
          "choropleth": [
           {
            "colorbar": {
             "outlinewidth": 0,
             "ticks": ""
            },
            "type": "choropleth"
           }
          ],
          "contour": [
           {
            "colorbar": {
             "outlinewidth": 0,
             "ticks": ""
            },
            "colorscale": [
             [
              0,
              "#0d0887"
             ],
             [
              0.1111111111111111,
              "#46039f"
             ],
             [
              0.2222222222222222,
              "#7201a8"
             ],
             [
              0.3333333333333333,
              "#9c179e"
             ],
             [
              0.4444444444444444,
              "#bd3786"
             ],
             [
              0.5555555555555556,
              "#d8576b"
             ],
             [
              0.6666666666666666,
              "#ed7953"
             ],
             [
              0.7777777777777778,
              "#fb9f3a"
             ],
             [
              0.8888888888888888,
              "#fdca26"
             ],
             [
              1,
              "#f0f921"
             ]
            ],
            "type": "contour"
           }
          ],
          "contourcarpet": [
           {
            "colorbar": {
             "outlinewidth": 0,
             "ticks": ""
            },
            "type": "contourcarpet"
           }
          ],
          "heatmap": [
           {
            "colorbar": {
             "outlinewidth": 0,
             "ticks": ""
            },
            "colorscale": [
             [
              0,
              "#0d0887"
             ],
             [
              0.1111111111111111,
              "#46039f"
             ],
             [
              0.2222222222222222,
              "#7201a8"
             ],
             [
              0.3333333333333333,
              "#9c179e"
             ],
             [
              0.4444444444444444,
              "#bd3786"
             ],
             [
              0.5555555555555556,
              "#d8576b"
             ],
             [
              0.6666666666666666,
              "#ed7953"
             ],
             [
              0.7777777777777778,
              "#fb9f3a"
             ],
             [
              0.8888888888888888,
              "#fdca26"
             ],
             [
              1,
              "#f0f921"
             ]
            ],
            "type": "heatmap"
           }
          ],
          "heatmapgl": [
           {
            "colorbar": {
             "outlinewidth": 0,
             "ticks": ""
            },
            "colorscale": [
             [
              0,
              "#0d0887"
             ],
             [
              0.1111111111111111,
              "#46039f"
             ],
             [
              0.2222222222222222,
              "#7201a8"
             ],
             [
              0.3333333333333333,
              "#9c179e"
             ],
             [
              0.4444444444444444,
              "#bd3786"
             ],
             [
              0.5555555555555556,
              "#d8576b"
             ],
             [
              0.6666666666666666,
              "#ed7953"
             ],
             [
              0.7777777777777778,
              "#fb9f3a"
             ],
             [
              0.8888888888888888,
              "#fdca26"
             ],
             [
              1,
              "#f0f921"
             ]
            ],
            "type": "heatmapgl"
           }
          ],
          "histogram": [
           {
            "marker": {
             "pattern": {
              "fillmode": "overlay",
              "size": 10,
              "solidity": 0.2
             }
            },
            "type": "histogram"
           }
          ],
          "histogram2d": [
           {
            "colorbar": {
             "outlinewidth": 0,
             "ticks": ""
            },
            "colorscale": [
             [
              0,
              "#0d0887"
             ],
             [
              0.1111111111111111,
              "#46039f"
             ],
             [
              0.2222222222222222,
              "#7201a8"
             ],
             [
              0.3333333333333333,
              "#9c179e"
             ],
             [
              0.4444444444444444,
              "#bd3786"
             ],
             [
              0.5555555555555556,
              "#d8576b"
             ],
             [
              0.6666666666666666,
              "#ed7953"
             ],
             [
              0.7777777777777778,
              "#fb9f3a"
             ],
             [
              0.8888888888888888,
              "#fdca26"
             ],
             [
              1,
              "#f0f921"
             ]
            ],
            "type": "histogram2d"
           }
          ],
          "histogram2dcontour": [
           {
            "colorbar": {
             "outlinewidth": 0,
             "ticks": ""
            },
            "colorscale": [
             [
              0,
              "#0d0887"
             ],
             [
              0.1111111111111111,
              "#46039f"
             ],
             [
              0.2222222222222222,
              "#7201a8"
             ],
             [
              0.3333333333333333,
              "#9c179e"
             ],
             [
              0.4444444444444444,
              "#bd3786"
             ],
             [
              0.5555555555555556,
              "#d8576b"
             ],
             [
              0.6666666666666666,
              "#ed7953"
             ],
             [
              0.7777777777777778,
              "#fb9f3a"
             ],
             [
              0.8888888888888888,
              "#fdca26"
             ],
             [
              1,
              "#f0f921"
             ]
            ],
            "type": "histogram2dcontour"
           }
          ],
          "mesh3d": [
           {
            "colorbar": {
             "outlinewidth": 0,
             "ticks": ""
            },
            "type": "mesh3d"
           }
          ],
          "parcoords": [
           {
            "line": {
             "colorbar": {
              "outlinewidth": 0,
              "ticks": ""
             }
            },
            "type": "parcoords"
           }
          ],
          "pie": [
           {
            "automargin": true,
            "type": "pie"
           }
          ],
          "scatter": [
           {
            "fillpattern": {
             "fillmode": "overlay",
             "size": 10,
             "solidity": 0.2
            },
            "type": "scatter"
           }
          ],
          "scatter3d": [
           {
            "line": {
             "colorbar": {
              "outlinewidth": 0,
              "ticks": ""
             }
            },
            "marker": {
             "colorbar": {
              "outlinewidth": 0,
              "ticks": ""
             }
            },
            "type": "scatter3d"
           }
          ],
          "scattercarpet": [
           {
            "marker": {
             "colorbar": {
              "outlinewidth": 0,
              "ticks": ""
             }
            },
            "type": "scattercarpet"
           }
          ],
          "scattergeo": [
           {
            "marker": {
             "colorbar": {
              "outlinewidth": 0,
              "ticks": ""
             }
            },
            "type": "scattergeo"
           }
          ],
          "scattergl": [
           {
            "marker": {
             "colorbar": {
              "outlinewidth": 0,
              "ticks": ""
             }
            },
            "type": "scattergl"
           }
          ],
          "scattermapbox": [
           {
            "marker": {
             "colorbar": {
              "outlinewidth": 0,
              "ticks": ""
             }
            },
            "type": "scattermapbox"
           }
          ],
          "scatterpolar": [
           {
            "marker": {
             "colorbar": {
              "outlinewidth": 0,
              "ticks": ""
             }
            },
            "type": "scatterpolar"
           }
          ],
          "scatterpolargl": [
           {
            "marker": {
             "colorbar": {
              "outlinewidth": 0,
              "ticks": ""
             }
            },
            "type": "scatterpolargl"
           }
          ],
          "scatterternary": [
           {
            "marker": {
             "colorbar": {
              "outlinewidth": 0,
              "ticks": ""
             }
            },
            "type": "scatterternary"
           }
          ],
          "surface": [
           {
            "colorbar": {
             "outlinewidth": 0,
             "ticks": ""
            },
            "colorscale": [
             [
              0,
              "#0d0887"
             ],
             [
              0.1111111111111111,
              "#46039f"
             ],
             [
              0.2222222222222222,
              "#7201a8"
             ],
             [
              0.3333333333333333,
              "#9c179e"
             ],
             [
              0.4444444444444444,
              "#bd3786"
             ],
             [
              0.5555555555555556,
              "#d8576b"
             ],
             [
              0.6666666666666666,
              "#ed7953"
             ],
             [
              0.7777777777777778,
              "#fb9f3a"
             ],
             [
              0.8888888888888888,
              "#fdca26"
             ],
             [
              1,
              "#f0f921"
             ]
            ],
            "type": "surface"
           }
          ],
          "table": [
           {
            "cells": {
             "fill": {
              "color": "#EBF0F8"
             },
             "line": {
              "color": "white"
             }
            },
            "header": {
             "fill": {
              "color": "#C8D4E3"
             },
             "line": {
              "color": "white"
             }
            },
            "type": "table"
           }
          ]
         },
         "layout": {
          "annotationdefaults": {
           "arrowcolor": "#2a3f5f",
           "arrowhead": 0,
           "arrowwidth": 1
          },
          "autotypenumbers": "strict",
          "coloraxis": {
           "colorbar": {
            "outlinewidth": 0,
            "ticks": ""
           }
          },
          "colorscale": {
           "diverging": [
            [
             0,
             "#8e0152"
            ],
            [
             0.1,
             "#c51b7d"
            ],
            [
             0.2,
             "#de77ae"
            ],
            [
             0.3,
             "#f1b6da"
            ],
            [
             0.4,
             "#fde0ef"
            ],
            [
             0.5,
             "#f7f7f7"
            ],
            [
             0.6,
             "#e6f5d0"
            ],
            [
             0.7,
             "#b8e186"
            ],
            [
             0.8,
             "#7fbc41"
            ],
            [
             0.9,
             "#4d9221"
            ],
            [
             1,
             "#276419"
            ]
           ],
           "sequential": [
            [
             0,
             "#0d0887"
            ],
            [
             0.1111111111111111,
             "#46039f"
            ],
            [
             0.2222222222222222,
             "#7201a8"
            ],
            [
             0.3333333333333333,
             "#9c179e"
            ],
            [
             0.4444444444444444,
             "#bd3786"
            ],
            [
             0.5555555555555556,
             "#d8576b"
            ],
            [
             0.6666666666666666,
             "#ed7953"
            ],
            [
             0.7777777777777778,
             "#fb9f3a"
            ],
            [
             0.8888888888888888,
             "#fdca26"
            ],
            [
             1,
             "#f0f921"
            ]
           ],
           "sequentialminus": [
            [
             0,
             "#0d0887"
            ],
            [
             0.1111111111111111,
             "#46039f"
            ],
            [
             0.2222222222222222,
             "#7201a8"
            ],
            [
             0.3333333333333333,
             "#9c179e"
            ],
            [
             0.4444444444444444,
             "#bd3786"
            ],
            [
             0.5555555555555556,
             "#d8576b"
            ],
            [
             0.6666666666666666,
             "#ed7953"
            ],
            [
             0.7777777777777778,
             "#fb9f3a"
            ],
            [
             0.8888888888888888,
             "#fdca26"
            ],
            [
             1,
             "#f0f921"
            ]
           ]
          },
          "colorway": [
           "#636efa",
           "#EF553B",
           "#00cc96",
           "#ab63fa",
           "#FFA15A",
           "#19d3f3",
           "#FF6692",
           "#B6E880",
           "#FF97FF",
           "#FECB52"
          ],
          "font": {
           "color": "#2a3f5f"
          },
          "geo": {
           "bgcolor": "white",
           "lakecolor": "white",
           "landcolor": "#E5ECF6",
           "showlakes": true,
           "showland": true,
           "subunitcolor": "white"
          },
          "hoverlabel": {
           "align": "left"
          },
          "hovermode": "closest",
          "mapbox": {
           "style": "light"
          },
          "paper_bgcolor": "white",
          "plot_bgcolor": "#E5ECF6",
          "polar": {
           "angularaxis": {
            "gridcolor": "white",
            "linecolor": "white",
            "ticks": ""
           },
           "bgcolor": "#E5ECF6",
           "radialaxis": {
            "gridcolor": "white",
            "linecolor": "white",
            "ticks": ""
           }
          },
          "scene": {
           "xaxis": {
            "backgroundcolor": "#E5ECF6",
            "gridcolor": "white",
            "gridwidth": 2,
            "linecolor": "white",
            "showbackground": true,
            "ticks": "",
            "zerolinecolor": "white"
           },
           "yaxis": {
            "backgroundcolor": "#E5ECF6",
            "gridcolor": "white",
            "gridwidth": 2,
            "linecolor": "white",
            "showbackground": true,
            "ticks": "",
            "zerolinecolor": "white"
           },
           "zaxis": {
            "backgroundcolor": "#E5ECF6",
            "gridcolor": "white",
            "gridwidth": 2,
            "linecolor": "white",
            "showbackground": true,
            "ticks": "",
            "zerolinecolor": "white"
           }
          },
          "shapedefaults": {
           "line": {
            "color": "#2a3f5f"
           }
          },
          "ternary": {
           "aaxis": {
            "gridcolor": "white",
            "linecolor": "white",
            "ticks": ""
           },
           "baxis": {
            "gridcolor": "white",
            "linecolor": "white",
            "ticks": ""
           },
           "bgcolor": "#E5ECF6",
           "caxis": {
            "gridcolor": "white",
            "linecolor": "white",
            "ticks": ""
           }
          },
          "title": {
           "x": 0.05
          },
          "xaxis": {
           "automargin": true,
           "gridcolor": "white",
           "linecolor": "white",
           "ticks": "",
           "title": {
            "standoff": 15
           },
           "zerolinecolor": "white",
           "zerolinewidth": 2
          },
          "yaxis": {
           "automargin": true,
           "gridcolor": "white",
           "linecolor": "white",
           "ticks": "",
           "title": {
            "standoff": 15
           },
           "zerolinecolor": "white",
           "zerolinewidth": 2
          }
         }
        },
        "xaxis": {
         "anchor": "y",
         "domain": [
          0,
          1
         ],
         "title": {
          "text": "x"
         }
        },
        "yaxis": {
         "anchor": "x",
         "domain": [
          0,
          1
         ],
         "title": {
          "text": "y"
         }
        }
       }
      }
     },
     "metadata": {},
     "output_type": "display_data"
    }
   ],
   "source": [
    "import plotly.express as px\n",
    "fig = px.scatter(x = df_trans.Revenue, y= df_trans.Sales_quantity)\n",
    "fig.show()"
   ]
  },
  {
   "cell_type": "code",
   "execution_count": 22,
   "metadata": {},
   "outputs": [
    {
     "data": {
      "text/plain": [
       "0.008801127621324744"
      ]
     },
     "execution_count": 22,
     "metadata": {},
     "output_type": "execute_result"
    }
   ],
   "source": [
    "from sklearn.metrics import mean_squared_error\n",
    "y_res = regr.predict(x)\n",
    "# Calculation of Mean Squared Error (MSE)\n",
    "mean_squared_error(y, y_res)"
   ]
  },
  {
   "attachments": {},
   "cell_type": "markdown",
   "metadata": {},
   "source": [
    "# Test"
   ]
  },
  {
   "cell_type": "code",
   "execution_count": 23,
   "metadata": {},
   "outputs": [
    {
     "data": {
      "text/plain": [
       "0.008801127621324744"
      ]
     },
     "execution_count": 23,
     "metadata": {},
     "output_type": "execute_result"
    }
   ],
   "source": [
    "x_T = df_test.Revenue.values\n",
    "y_T = df_test.Sales_quantity.values\n",
    "length = len(x)\n",
    "x_T = x.reshape(length, 1)\n",
    "y_T= y.reshape(length, 1)\n",
    "\n",
    "y_res_T = regr.predict(x_T)\n",
    "# Calculation of Mean Squared Error (MSE)\n",
    "mean_squared_error(y_T, y_res_T)"
   ]
  },
  {
   "cell_type": "code",
   "execution_count": null,
   "metadata": {},
   "outputs": [],
   "source": [
    "# y = Revenue\n",
    "# x = SQ, AC, P\n",
    "# (R, SQ)\n",
    "# (R, AC)\n",
    "# (R, P)\n",
    "# (R, SQ, AC)\n",
    "# (R, SQ, P)\n",
    "# (R, AC, P)\n",
    "# (R, SQ, AC, P)\n",
    "\n",
    "# Data cleaning\n",
    "# EDA/Before after\n",
    "# Hypothesis testing\n",
    "# Model selection\n"
   ]
  }
 ],
 "metadata": {
  "kernelspec": {
   "display_name": "case_study_sta",
   "language": "python",
   "name": "python3"
  },
  "language_info": {
   "codemirror_mode": {
    "name": "ipython",
    "version": 3
   },
   "file_extension": ".py",
   "mimetype": "text/x-python",
   "name": "python",
   "nbconvert_exporter": "python",
   "pygments_lexer": "ipython3",
   "version": "3.8.13"
  },
  "orig_nbformat": 4
 },
 "nbformat": 4,
 "nbformat_minor": 2
}
